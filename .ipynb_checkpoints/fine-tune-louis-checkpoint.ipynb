{
 "cells": [
  {
   "cell_type": "code",
   "execution_count": 2,
   "id": "0fff5bd5-5224-4e58-a059-24b444626bb6",
   "metadata": {},
   "outputs": [
    {
     "name": "stdout",
     "output_type": "stream",
     "text": [
      "hey\n"
     ]
    }
   ],
   "source": [
    "print('hey')"
   ]
  },
  {
   "cell_type": "code",
   "execution_count": null,
   "id": "1d0bf035-02ae-4b52-bb86-4a7523bfec05",
   "metadata": {},
   "outputs": [],
   "source": [
    "# 1. Read files from \"louis_dataset\" catalog\n",
    "# 2. Compile a JSONL dataset using them"
   ]
  },
  {
   "cell_type": "code",
   "execution_count": 51,
   "id": "49fd9ca1-25d1-426c-8b9a-1becf17e8ac4",
   "metadata": {},
   "outputs": [],
   "source": [
    "from louis_dataset.system_prompt import get_system_prompt\n",
    "\n",
    "system_prompt = get_system_prompt()"
   ]
  },
  {
   "cell_type": "code",
   "execution_count": 52,
   "id": "0d5c0ab4-c4bb-4505-89cd-1c2befa21b8c",
   "metadata": {},
   "outputs": [],
   "source": [
    "from louis_dataset.help import get_completions\n",
    "\n",
    "help_completions = get_completions()"
   ]
  },
  {
   "cell_type": "code",
   "execution_count": 53,
   "id": "1858b3ef-fd4a-40c3-8734-ce9ac1fdc5c1",
   "metadata": {},
   "outputs": [],
   "source": [
    "from louis_dataset.add_basic import get_completions\n",
    "\n",
    "add_basic_completions = get_completions()"
   ]
  },
  {
   "cell_type": "code",
   "execution_count": 56,
   "id": "a28fc66d-43c7-494f-9ad2-60f1f96a86da",
   "metadata": {},
   "outputs": [],
   "source": [
    "from louis_dataset.add_with_description import get_completions\n",
    "\n",
    "add_with_description_completions = get_completions()"
   ]
  },
  {
   "cell_type": "code",
   "execution_count": 57,
   "id": "ac69361c-3cee-46a4-b9dd-9631a801722d",
   "metadata": {},
   "outputs": [
    {
     "ename": "ImportError",
     "evalue": "cannot import name 'get_completions' from 'louis_dataset.add_with_assignee' (/Users/taydakov/Play/Jupyter/fine-tuning-chat-gpt-kucz/louis_dataset/add_with_assignee.py)",
     "output_type": "error",
     "traceback": [
      "\u001b[0;31m---------------------------------------------------------------------------\u001b[0m",
      "\u001b[0;31mImportError\u001b[0m                               Traceback (most recent call last)",
      "Cell \u001b[0;32mIn [57], line 1\u001b[0m\n\u001b[0;32m----> 1\u001b[0m \u001b[38;5;28;01mfrom\u001b[39;00m \u001b[38;5;21;01mlouis_dataset\u001b[39;00m\u001b[38;5;21;01m.\u001b[39;00m\u001b[38;5;21;01madd_with_assignee\u001b[39;00m \u001b[38;5;28;01mimport\u001b[39;00m get_completions\n\u001b[1;32m      3\u001b[0m add_with_assignee_completions \u001b[38;5;241m=\u001b[39m get_completions()\n",
      "\u001b[0;31mImportError\u001b[0m: cannot import name 'get_completions' from 'louis_dataset.add_with_assignee' (/Users/taydakov/Play/Jupyter/fine-tuning-chat-gpt-kucz/louis_dataset/add_with_assignee.py)"
     ]
    }
   ],
   "source": [
    "from louis_dataset.add_with_assignee import get_completions\n",
    "\n",
    "add_with_assignee_completions = get_completions()"
   ]
  },
  {
   "cell_type": "code",
   "execution_count": 55,
   "id": "243f8fb7-854f-476e-8165-b4b16b93e4f2",
   "metadata": {},
   "outputs": [],
   "source": [
    "from louis_dataset.add_with_deadline import get_completions\n",
    "\n",
    "add_with_deadline_completions = get_completions()"
   ]
  },
  {
   "cell_type": "code",
   "execution_count": 41,
   "id": "a08eaffd-0b36-49b6-99b3-6e8bee44917e",
   "metadata": {},
   "outputs": [],
   "source": [
    "dataset_noroles = help_completions + add_basic_completions + add_with_deadline_completions + add_with_assignee_completions"
   ]
  },
  {
   "cell_type": "code",
   "execution_count": 48,
   "id": "0628fd28-6454-42df-975f-885da2f93629",
   "metadata": {},
   "outputs": [],
   "source": [
    "dataset_with_roles_and_system = [{\n",
    "    \"messages\": [{\n",
    "        \"role\": \"system\",\n",
    "        \"content\": system_prompt,\n",
    "    }, {\n",
    "        \"role\": \"user\",\n",
    "        \"content\": completion[\"user\"],\n",
    "    }, {\n",
    "        \"role\": \"assistant\",\n",
    "        \"content\": completion[\"assistant\"],\n",
    "    }]\n",
    "} for completion in dataset_noroles]"
   ]
  },
  {
   "cell_type": "code",
   "execution_count": 49,
   "id": "db50677f-d4df-46f2-ba18-d709e6485415",
   "metadata": {},
   "outputs": [
    {
     "data": {
      "text/plain": [
       "12"
      ]
     },
     "execution_count": 49,
     "metadata": {},
     "output_type": "execute_result"
    }
   ],
   "source": [
    "len(dataset_with_roles_and_system)"
   ]
  },
  {
   "cell_type": "code",
   "execution_count": 50,
   "id": "70445d41-b18c-4445-bbad-5c8936529718",
   "metadata": {},
   "outputs": [],
   "source": [
    "import json\n",
    "\n",
    "# Write to JSONL file\n",
    "with open(\"louis_dataset.jsonl\", \"w\") as file:\n",
    "    for item in dataset_with_roles_and_system:\n",
    "        json_str = json.dumps(item)\n",
    "        file.write(json_str + \"\\n\")"
   ]
  },
  {
   "cell_type": "code",
   "execution_count": null,
   "id": "bac1f20c-22ae-495a-8e44-d640ba459636",
   "metadata": {},
   "outputs": [],
   "source": []
  }
 ],
 "metadata": {
  "kernelspec": {
   "display_name": "Python 3 (ipykernel)",
   "language": "python",
   "name": "python3"
  },
  "language_info": {
   "codemirror_mode": {
    "name": "ipython",
    "version": 3
   },
   "file_extension": ".py",
   "mimetype": "text/x-python",
   "name": "python",
   "nbconvert_exporter": "python",
   "pygments_lexer": "ipython3",
   "version": "3.8.16"
  }
 },
 "nbformat": 4,
 "nbformat_minor": 5
}
