{
 "cells": [
  {
   "cell_type": "markdown",
   "metadata": {},
   "source": [
    "# Fine Tuning Workshop\n",
    "\n",
    "The goal of this workshop is to simply a prompt to get chatGPT to write code into a given format."
   ]
  },
  {
   "cell_type": "markdown",
   "metadata": {},
   "source": [
    "## Install Dependencies\n",
    "\n",
    "The first step is to install dependencies"
   ]
  },
  {
   "cell_type": "code",
   "execution_count": null,
   "metadata": {},
   "outputs": [],
   "source": [
    "pip install --upgrade openai\n"
   ]
  },
  {
   "cell_type": "code",
   "execution_count": null,
   "metadata": {},
   "outputs": [],
   "source": [
    "import json\n",
    "import openai\n",
    "import os\n",
    "import glob\n"
   ]
  },
  {
   "cell_type": "markdown",
   "metadata": {},
   "source": [
    "## Orignal Prompt\n",
    "\n",
    "The original prompt that we want to replace\n",
    "\n",
    ">>>\n",
    " \n",
    "According to the new user's task and our software designs listed below: \n",
    "Task: \"Create a pong game\".\n",
    "We have decided to complete the task through a executable software with\n",
    "    a static html website. As the software develoepr, \n",
    "    to satisfy the new user's demands, you should write one or multiple \n",
    "    files and make sure that every detail of the architecture is, in the end, \n",
    "    implemented as code.\n",
    "Think step by step and reason yourself to the right decisions to make sure we get it right.\n",
    "You will output the content of the complete code. Each file must strictly follow a \n",
    "markdown code block format, where the following tokens must be replaced such that \n",
    "\"FILENAME\" is the lowercase file name including the file extension, \"LANGUAGE\" \n",
    "is the programming language and \"CODE\" is the original code.  The code should have\n",
    "no comments, and you must respons with only the code and file-name... nothing\n",
    "\n",
    "[FILENAME]\n",
    "```LANGUAGE\n",
    "CODE\n",
    "```\n",
    "\n",
    "For example:\n",
    "\n",
    "[index.html]\n",
    "```html\n",
    "<!DOCTYPE html>\n",
    "<html>\n",
    "  <head>\n",
    "  </head>\n",
    "</html>\n",
    "```\n",
    "\n",
    "You will start with the \"[index.html]\" file, then go to the ones that are imported by that file, and so on.\n",
    "Please note that the code should be fully functional. Ensure to implement all functions.\n",
    "\n",
    "```\n",
    "\n",
    "## Problems with Prompt\n",
    "\n",
    "The prompt is very long, and takes a lot of examples.  It would be better to \"show\" as opposed to tell."
   ]
  },
  {
   "cell_type": "markdown",
   "metadata": {},
   "source": [
    "## Example of first prompt\n",
    "\n",
    "We will run the first prompt to see the output"
   ]
  },
  {
   "cell_type": "code",
   "execution_count": null,
   "metadata": {},
   "outputs": [],
   "source": [
    "prompt = \"\"\"\n",
    "According to the new user's task and our software designs listed below: \n",
    "Task: \"Create a pong game\".\n",
    "We have decided to complete the task through a executable software with\n",
    "    a static html website. As the software develoepr, \n",
    "    to satisfy the new user's demands, you should write one or multiple \n",
    "    files and make sure that every detail of the architecture is, in the end, \n",
    "    implemented as code.\n",
    "Think step by step and reason yourself to the right decisions to make sure we get it right.\n",
    "You will output the content of the complete code. Each file must strictly follow a \n",
    "markdown code block format, where the following tokens must be replaced such that \n",
    "\"FILENAME\" is the lowercase file name including the file extension, \"LANGUAGE\" \n",
    "is the programming language and \"CODE\" is the original code.  The code should have\n",
    "no comments, and you must respons with only the code and file-name... nothing\n",
    "\n",
    "[FILENAME]\n",
    "```LANGUAGE\n",
    "CODE\n",
    "```\n",
    "\n",
    "For example:\n",
    "\n",
    "[index.html]\n",
    "```html\n",
    "<!DOCTYPE html>\n",
    "<html>\n",
    "  <head>\n",
    "  </head>\n",
    "</html>\n",
    "```\n",
    "\n",
    "You will start with the \"[index.html]\" file, then go to the ones that are imported by that file, and so on.\n",
    "Please note that the code should be fully functional. Ensure to implement all functions.\n",
    "\n",
    "```\n",
    "\n",
    "## Problems with Prompt\n",
    "\n",
    "The prompt is very long, and takes a lot of examples.  It would be better to \"show\" as opposed to tell.\n",
    "\"\"\""
   ]
  },
  {
   "cell_type": "code",
   "execution_count": null,
   "metadata": {},
   "outputs": [],
   "source": [
    "openai.api_key = os.getenv(\"OPENAI_API_KEY\")\n",
    "\n",
    "completion = openai.ChatCompletion.create(\n",
    "  model=\"gpt-3.5-turbo\",\n",
    "  messages=[\n",
    "    {\"role\": \"system\", \"content\": \"You are a web developer\"},\n",
    "    {\"role\": \"user\", \"content\": prompt}\n",
    "  ]\n",
    ")\n",
    "\n",
    "print(completion.choices[0].message.content)"
   ]
  },
  {
   "cell_type": "markdown",
   "metadata": {},
   "source": [
    "## Problems with response\n",
    "\n",
    "The given response gives more detail than we want... we only want the code, but it gives commentary about the code... We could probably get this eliminated with prompt engineering, but we can try fine-tuning"
   ]
  },
  {
   "cell_type": "markdown",
   "metadata": {},
   "source": [
    "## Prepare Example data\n",
    "\n",
    "Example data is prepared in the `example_data` folder.  The goal is to be able to tell chat GPT to write code with a small prompt, and give data back in the following format\n",
    "\n",
    "[filename.ext]\n",
    "```code\n",
    "CODE HERE\n",
    "```"
   ]
  },
  {
   "cell_type": "code",
   "execution_count": null,
   "metadata": {},
   "outputs": [],
   "source": [
    "files = glob.glob(\"example_data/*\")\n",
    "files"
   ]
  },
  {
   "cell_type": "markdown",
   "metadata": {},
   "source": [
    "## Save data as a JSONL file\n",
    "\n",
    "Here we will take the data and write it as a JSONL file"
   ]
  },
  {
   "cell_type": "code",
   "execution_count": null,
   "metadata": {},
   "outputs": [],
   "source": [
    "system_content = \"You are a developer for a company\"\n",
    "\n",
    "lines = []\n",
    "for file in files:\n",
    "    name = file.split(\"/\")[-1].split(\".\")[0]\n",
    "    user_content = name\n",
    "    with open(file, 'r') as fi:\n",
    "        assistant_content = json.dumps(fi.read())\n",
    "    line = \"{\\\"messages\\\": [{\\\"role\\\": \\\"system\\\", \\\"content\\\": \\\"\" + system_content + \"\\\"}, {\\\"role\\\": \\\"user\\\", \\\"content\\\": \\\"\" + user_content + \"\\\"}, {\\\"role\\\": \\\"assistant\\\", \\\"content\\\":\"  + assistant_content + \"}]}\"\n",
    "    lines.append(line)"
   ]
  },
  {
   "cell_type": "code",
   "execution_count": null,
   "metadata": {},
   "outputs": [],
   "source": [
    "lines"
   ]
  },
  {
   "cell_type": "code",
   "execution_count": null,
   "metadata": {},
   "outputs": [],
   "source": [
    "with open('developer-initialize.jsonl', 'w') as f:\n",
    "    for line in lines:\n",
    "        f.write(line)\n",
    "        f.write(\"\\n\")\n"
   ]
  },
  {
   "cell_type": "markdown",
   "metadata": {},
   "source": [
    "## Upload Model\n",
    "\n",
    "While it's possible to use the API, it's easier to simply upload the model here: https://platform.openai.com/finetune"
   ]
  },
  {
   "cell_type": "markdown",
   "metadata": {},
   "source": [
    "## Run the model"
   ]
  },
  {
   "cell_type": "code",
   "execution_count": null,
   "metadata": {},
   "outputs": [],
   "source": [
    "openai.api_key = os.getenv(\"OPENAI_API_KEY\")\n",
    "\n",
    "completion = openai.ChatCompletion.create(\n",
    "  model=\"ft:gpt-3.5-turbo-0613:personal::89edVQIv\",\n",
    "  messages=[\n",
    "    {\"role\": \"system\", \"content\": \"You are a web developer\"},\n",
    "    {\"role\": \"user\", \"content\": \"Create a pong game\"}\n",
    "  ]\n",
    ")\n",
    "\n",
    "print(completion.choices[0].message.content)"
   ]
  }
 ],
 "metadata": {
  "kernelspec": {
   "display_name": "ldm",
   "language": "python",
   "name": "python3"
  },
  "language_info": {
   "codemirror_mode": {
    "name": "ipython",
    "version": 3
   },
   "file_extension": ".py",
   "mimetype": "text/x-python",
   "name": "python",
   "nbconvert_exporter": "python",
   "pygments_lexer": "ipython3",
   "version": "3.9.13"
  },
  "orig_nbformat": 4
 },
 "nbformat": 4,
 "nbformat_minor": 2
}
